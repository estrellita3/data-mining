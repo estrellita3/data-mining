{
 "cells": [
  {
   "cell_type": "markdown",
   "metadata": {},
   "source": [
    "# Regresión lineal\n",
    "\n",
    "## Regresión lineal simple\n",
    "\n",
    "Modelo matemático usado para aproximar la relación de dependencia entre una variable dependiente $Y$, la variables independiente $X$ y un término aleatorio $\\varepsilon$. Este modelo puede ser expresado como:\n",
    "\n",
    "\\\\[\n",
    "y_i=\\beta_0+\\beta_1 x_i+\\varepsilon_i  \\quad \\text{para }i=1,\\dots,n\n",
    "\\\\]"
   ]
  },
  {
   "cell_type": "code",
   "execution_count": null,
   "metadata": {},
   "outputs": [],
   "source": [
    "options(repr.plot.height=4,repr.plot.width=6,repr.plot.res = 200)\n",
    "\n",
    "n<-100\n",
    "x<-seq(-5,5,length.out = n)\n",
    "df<-data.frame(x,y = 20*x+1+rnorm(n,mean=1,sd=10))\n",
    "model <- lm(y~x,data=df)\n",
    "plot(df$x,df$y)\n",
    "lines(df$x,predict(model,df),col=\"red\")\n",
    "grid()"
   ]
  },
  {
   "cell_type": "markdown",
   "metadata": {},
   "source": [
    "\n",
    "Esto significa que se puede expandir de la forma:\n",
    "\\\\[\n",
    "\\begin{split}\n",
    "y_1 &=\\beta_0+\\beta_1 x_1+\\varepsilon_1  \\\\\n",
    "y_2 &=\\beta_0+\\beta_1 x_2+\\varepsilon_2  \\\\\n",
    "\\vdots& \\\\\n",
    "y_n&=\\beta_0+\\beta_1 x_n+\\varepsilon_n \n",
    "\\end{split}\n",
    "\\\\]\n",
    "\n",
    "\n",
    "donde:\n",
    "* $y_i$: i-esimo valor de la variable dependiente\n",
    "* $x_i$: i-esimo valor de la variable independiente\n",
    "* $\\beta_0, \\beta_1$: parámetros a determinal que dado un conjunto de $x_i$ produce los mejores $y_i$\n",
    " * $\\beta_0$ : Puede ser llamado sesgo, bias, intercept o término constante. Indica el corte en el eje Y\n",
    " * $\\beta_1$ : Puede ser llamado pendiente, slope. Indica cuanto aumenta Y por cada incremento de X\n",
    "* $\\varepsilon_i$: error, valor aleatorio.\n",
    "\n",
    "Podemos escribirlo en forma de matriz:\n",
    "\\\\[\n",
    "\\begin{bmatrix}\n",
    " y_1 \\\\ \n",
    " y_2 \\\\ \n",
    " \\vdots \\\\ \n",
    " y_n \n",
    "\\end{bmatrix}\n",
    "=\n",
    "\\begin{bmatrix}\n",
    " 1 & x_1\\\\ \n",
    " 1 & x_2 \\\\ \n",
    " \\vdots & \\vdots \\\\ \n",
    " 1 & x_n \n",
    "\\end{bmatrix}\n",
    "\\begin{bmatrix}\n",
    "\\beta_0\n",
    "\\\\ \n",
    "\\beta_1\n",
    "\\end{bmatrix}+\n",
    "\\begin{bmatrix}\n",
    " \\varepsilon_1 \\\\ \n",
    " \\varepsilon_2 \\\\ \n",
    " \\vdots \\\\ \n",
    " \\varepsilon_n\n",
    "\\end{bmatrix}\n",
    "\\\\]\n",
    "Lo que se puede simplificar como:\n",
    "\\\\[\n",
    "Y=X \\beta+\\varepsilon\n",
    "\\\\]\n",
    "\n",
    "\n",
    "\n",
    "\n",
    "Donde:\n",
    "* $Y \\in \\mathbb{R}^{n \\times 1}$ \n",
    "* $X \\in \\mathbb{R}^{n \\times 2}$ \n",
    "* $\\beta \\in \\mathbb{R}^{1 \\times 2}$ \n",
    "* $\\varepsilon \\in \\mathbb{R}^{n \\times 1}$ \n",
    "\n"
   ]
  },
  {
   "cell_type": "markdown",
   "metadata": {},
   "source": [
    "Podemos usar la matriz inversa para resolver ecuaciones:\n",
    "\\\\[\n",
    "\\begin{split}\n",
    "Y &= X \\beta \\\\\n",
    "X^{-1}Y&=X^{-1}X \\beta \\\\\n",
    "X^{-1}Y&=I\\beta \\\\\n",
    "X^{-1}Y&=\\beta \\\\\n",
    "\\end{split}\n",
    "\\\\]\n"
   ]
  },
  {
   "cell_type": "markdown",
   "metadata": {},
   "source": [
    "### Pseudoinversa Moore-Penrose\n",
    "\n",
    "¿Qué ocurre si la matriz que queremos invertir no es cuadrada? Entonces el sistema de ecuaciones no tiene una única solución o simplemente no tiene solución.\n",
    "\n",
    "Lo que tratamos de encontrar es la menos mala de las soluciones.\n",
    "\n",
    "Para números reales se define como:\n",
    "\\\\[\n",
    "X^+ = \\left( X^{\\intercal} X  \\right)^{-1} X^{\\intercal}\n",
    "\\\\]\n",
    "Cuando:\n",
    "\\\\[\n",
    "X^+X = I\n",
    "\\\\]\n",
    "\n",
    "\n",
    "\n",
    "El problema original consistía en querer calcular $\\beta$ de tal forma que se minimice la influencia de $\\varepsilon$:\n",
    "\\\\[\n",
    "Y=X \\beta+\\varepsilon\n",
    "\\\\]\n",
    "En nuestro sistema $\\varepsilon$ es desconocido, pero sabemos que tiene media cero y varianza finita. Así que  simplificamos el siguiente sistema de ecuaciones:\n",
    "\n",
    "\\\\[\n",
    "\\begin{split}\n",
    "Y=&X \\hat{\\beta} \\\\\n",
    "X^+Y=& X^+X \\hat{\\beta} \\\\\n",
    "X^+Y=& \\hat{\\beta} \\\\\n",
    "X^+Y=& \\hat{\\beta} \\\\\n",
    "\\left( X^{\\intercal}X  \\right)^{-1} X^{\\intercal} Y =& \\hat{\\beta}\n",
    "\\end{split}\n",
    "\\\\]\n",
    "\n",
    "Ahora tenemos, a partir de $X$ e $Y$ una estimación $\\hat{\\beta}$. Podemos entonces, a partir de valores conocidos de $X$ calcular una estimación de $\\hat{Y}$. \n",
    "\\\\[\n",
    "\\hat{Y}=X \\hat{\\beta}\n",
    "\\\\]\n",
    "\n",
    "Evidentemente $Y \\neq \\hat{Y}$, llamaremos **residuo**(error) a la diferencia entre el valor real y el valor estimado : $Y-\\hat{Y}$. \n",
    "\n",
    "El método anterior garantiza que el error cuadrático medio sea mínimo.\n",
    "\\\\[\n",
    "MSE = {1 \\over n} \\sum_{i=0}^n{(Y-\\hat{Y})^2}\n",
    "\\\\]\n",
    "\n",
    "Es decir, nuestra tarea consiste en **minimizar** la función $MSE$ para que nuestro modelo $\\hat{Y}$ sea **óptimo**. La función MSE es convexa y cuadrática."
   ]
  },
  {
   "cell_type": "markdown",
   "metadata": {},
   "source": [
    "#### Coeficiente de determinación $R^2$\n",
    "\n",
    "\n",
    "Proporciona una medida de como de bien nuestra medida sigue al modelo. Se calcula mediante:\n",
    "\\\\[\n",
    "R^2=1-\\frac{SS_{res}}{SS_t}\n",
    "\\\\]\n",
    "\n",
    "Donde $SS_{res}$ es la suma del cuadrado de los residuos:\n",
    "\\\\[\n",
    "SS_{res}=\\sum_i (y_i-\\hat {y_i})^2\n",
    "\\\\]\n",
    "\n",
    "y $SS_{tot}$ es proporcional a la varianza de $Y$:\n",
    "\n",
    "\\\\[\n",
    "SS_{tot}=\\sum_i (y_i-\\bar{y})^2\n",
    "\\\\]\n",
    "\n",
    "Cuanto más cercano a $1$ mejor seguirá la predicción a los datos reales."
   ]
  },
  {
   "cell_type": "markdown",
   "metadata": {},
   "source": [
    "### Descenso por gradientes\n",
    "\n",
    "Vamos a tratar de minimizar la función MSE con lo que hemos aprendido del descenso de gradientes:"
   ]
  },
  {
   "cell_type": "code",
   "execution_count": null,
   "metadata": {},
   "outputs": [],
   "source": [
    "library(pracma)\n",
    "library(plotrix)\n",
    "\n",
    "mymodel<-function(x,beta1,beta2){beta1+x*beta2}\n",
    "\n",
    "mse<-function(beta1,beta2){\n",
    "    out<-rep(NA,length=length(beta1))\n",
    "    for(i in 1:length(beta1)){\n",
    "        out[i]<-sum((df$y-mymodel(df$x,beta1[i],beta2[i]))^2)/nrow(df)\n",
    "    }\n",
    "    out\n",
    "}\n",
    "\n",
    "beta1 <- seq(-20,20,length=100)\n",
    "beta2 <- seq(-10,40,length=100)\n",
    "z <- outer(beta1,beta2,mse)\n",
    "image(beta1,beta2,z,col = terrain.colors(39))\n",
    "contour(beta1,beta2,z,add=T)\n",
    "\n",
    "\n",
    "myfuncVector<-function(x){ mse(x[1],x[2]) }\n",
    "\n",
    "x_0 <- c(-10,-7)\n",
    "delta <- 0.1\n",
    "#delta <- 1\n",
    "criterio_convergencia<-1e-4\n",
    "\n",
    "x_historico<-data.frame(x=x_0[1],y=x_0[2])\n",
    "for (i in 1:5000){\n",
    "    g <- grad(myfuncVector,x_0)\n",
    "    #g <- inv(hessian(myfuncVector,x_0)) %*% as.matrix(grad(myfuncVector,x_0),cols=1)\n",
    "    if(abs(sum(g))<criterio_convergencia){\n",
    "        break;\n",
    "    }\n",
    "    x_new <- x_0 - g*delta     \n",
    "    x_0 <- x_new\n",
    "    x_historico<-rbind(x_historico,data.frame(x=x_0[1],y=x_0[2]))\n",
    "}\n",
    "nrow(x_historico)\n",
    "print(x_0)\n",
    "points(x_historico$x,x_historico$y,col=\"black\")\n",
    "color.scale.lines(x_historico$x,x_historico$y,c(1,1,0),0,c(0,1,1),colvar=1:nrow(x_historico),lwd=3)\n"
   ]
  },
  {
   "cell_type": "markdown",
   "metadata": {},
   "source": [
    "### Ejemplo Regresión lineal:"
   ]
  },
  {
   "cell_type": "code",
   "execution_count": null,
   "metadata": {},
   "outputs": [],
   "source": [
    "library(MASS)\n",
    "animals <- unique(rbind(Animals, mammals))\n",
    "head(animals)"
   ]
  },
  {
   "cell_type": "code",
   "execution_count": null,
   "metadata": {},
   "outputs": [],
   "source": [
    "library(ggplot2)\n",
    "ggplot(animals,aes(x=body,y=brain))+geom_point()"
   ]
  },
  {
   "cell_type": "code",
   "execution_count": null,
   "metadata": {},
   "outputs": [],
   "source": [
    "model<-lm(brain~body, data=animals)\n",
    "summary(model)"
   ]
  },
  {
   "cell_type": "code",
   "execution_count": null,
   "metadata": {},
   "outputs": [],
   "source": [
    "ggplot(animals,aes(x=body,y=brain))+geom_point()+\n",
    "    scale_x_continuous(trans='log10')+\n",
    "    scale_y_continuous(trans='log10')"
   ]
  },
  {
   "cell_type": "code",
   "execution_count": null,
   "metadata": {},
   "outputs": [],
   "source": [
    "animals[animals$body>1000,]"
   ]
  },
  {
   "cell_type": "code",
   "execution_count": null,
   "metadata": {},
   "outputs": [],
   "source": [
    "library(dplyr)\n",
    "library(tibble)\n",
    "\n",
    "ggplot(animals %>% rownames_to_column(var = \"especie\"),aes(x=body,y=brain))+\n",
    "    scale_x_continuous(trans='log10')+\n",
    "    scale_y_continuous(trans='log10')+geom_text(aes(label=especie))"
   ]
  },
  {
   "cell_type": "code",
   "execution_count": null,
   "metadata": {},
   "outputs": [],
   "source": [
    "animals %>% rownames_to_column(var = \"especie\") %>% \n",
    "    mutate(log_body=log10(body)) %>%\n",
    "    mutate(log_brain=log10(brain)) -> animals_log"
   ]
  },
  {
   "cell_type": "code",
   "execution_count": null,
   "metadata": {},
   "outputs": [],
   "source": [
    "model <- lm(log_brain ~ log_body, data = animals_log)\n",
    "summary(model)"
   ]
  },
  {
   "cell_type": "code",
   "execution_count": null,
   "metadata": {},
   "outputs": [],
   "source": [
    "model$coefficients"
   ]
  },
  {
   "cell_type": "code",
   "execution_count": null,
   "metadata": {},
   "outputs": [],
   "source": [
    "ggplot(animals_log ,aes(x=body,y=brain))+    \n",
    "    scale_x_continuous(trans='log10')+\n",
    "    scale_y_continuous(trans='log10')+geom_text(aes(label=especie))+\n",
    "    geom_point(color='red')+\n",
    "    geom_abline(slope = model$coefficients[2], intercept = model$coefficients[1])"
   ]
  },
  {
   "cell_type": "code",
   "execution_count": null,
   "metadata": {},
   "outputs": [],
   "source": [
    "animals_log$pred_log_brain <- predict(model, animals_log)\n",
    "animals_log$pred_brain <- 10^predict(model, animals_log)\n",
    "\n",
    "animals_log$residual <- animals_log$log_brain - animals_log$pred_log_brain\n",
    "animals_log$residual <- model$residuals\n",
    "head(animals_log)"
   ]
  },
  {
   "cell_type": "code",
   "execution_count": null,
   "metadata": {},
   "outputs": [],
   "source": [
    "hist(animals_log$residual)"
   ]
  },
  {
   "cell_type": "code",
   "execution_count": null,
   "metadata": {},
   "outputs": [],
   "source": [
    "animals_log %>% mutate(abs_residual=abs(residual)) %>% arrange(desc(abs_residual)) %>% top_n(10)"
   ]
  },
  {
   "cell_type": "markdown",
   "metadata": {},
   "source": [
    "El peso medio de un Neanderthal podría rondar los 72kg(https://en.wikipedia.org/wiki/Neanderthal_anatomy), y el peso de su cerebro alrededor de 1400g (https://www.scientificamerican.com/article/rambling-road-to-humanity/).\n",
    "¿Cómo encaja esto en nuestro modelo?"
   ]
  },
  {
   "cell_type": "code",
   "execution_count": null,
   "metadata": {},
   "outputs": [],
   "source": [
    "peso <- 72\n",
    "log_brain <- predict(model, data.frame(log_body=log10(peso)))\n",
    "paste(\"El peso esperado sería \",10^log_brain,'gramos')"
   ]
  },
  {
   "cell_type": "code",
   "execution_count": null,
   "metadata": {},
   "outputs": [],
   "source": [
    "animals_log$especie"
   ]
  },
  {
   "cell_type": "markdown",
   "metadata": {},
   "source": [
    "El peso de un leon macho adulto adulto son 170kg, y su tamaño de cerebro sería 240g\n",
    "https://faculty.washington.edu/chudler/facts.html\n"
   ]
  },
  {
   "cell_type": "code",
   "execution_count": null,
   "metadata": {},
   "outputs": [],
   "source": [
    "peso <- 170\n",
    "log_brain <- predict(model, data.frame(log_body=log10(peso)))\n",
    "paste(\"El peso esperado sería \",10^log_brain,'gramos')"
   ]
  },
  {
   "cell_type": "code",
   "execution_count": null,
   "metadata": {},
   "outputs": [],
   "source": [
    "# Para una rata de 400g el tamaño de su cerebro esperado sería de 2g, nuestro modelo dice:\n",
    "\n",
    "peso <- 0.4\n",
    "log_brain <- predict(model, data.frame(log_body=log10(peso)))\n",
    "paste(\"El peso esperado sería \",10^log_brain,'gramos')"
   ]
  },
  {
   "cell_type": "markdown",
   "metadata": {},
   "source": [
    "## Regresión lineal múltiple\n",
    "\n",
    "Ahora ahora habíamos visto como encontrar como el cambio en una variable puede afectar a otra, pero ¿qué ocurre si son varias las variables que alteran el comportamiento de nuestra variable objetivo? En este caso necesitamos utilizar la regresión lineal múltiple.\n",
    "\n",
    "Es un modelo matemático usado para aproximar la relación de dependencia entre una variable dependiente $Y$, las variables independientes $X_i$ y un término aleatorio $\\varepsilon$. Este modelo puede ser expresado como:\n",
    "\n",
    "\\\\[\n",
    "Y=\\beta_1 X_1+\\beta_2 X_2+\\cdots +\\beta_p X_p+\\varepsilon = \\sum \\beta_k X_k+\\varepsilon\n",
    "\\\\]\n",
    "\n",
    "\n",
    "donde:\n",
    "* $Y$: variable dependiente\n",
    "* $X_1,X_2,\\cdots ,X_p$: variables independientes\n",
    "* $\\beta_0, \\beta_1,\\beta_2,\\cdots ,\\beta_p$: parámetros a determinal que dado un $X_k$ produce el mejor posible $Y$\n",
    "* $\\varepsilon$: error, valor aleatorio.\n",
    "\n",
    "Condiciones para aplicarlo:\n",
    "1. Que la relación entre las variables sea lineal.\n",
    "2. Que los errores en la medición de $X_k$ sean independientes entre sí.\n",
    "3. Que los errores sigan una distribución normal de media 0 y varianza constante\n",
    "4. Que la varianza sea constante, se cumple heterocedasticidad\n",
    "\n",
    "\n",
    "Para calcular el valor óptimo de $\\beta$ vamos a utilizar un poco de álgebra linea. \n",
    "\\\\[\n",
    "\\begin{split}\n",
    "y_1 &=\\beta_1 x_{11}+\\beta_2 x_{12}+\\beta_3 x_{13}+\\cdots+\\beta_p x_{1p}+\\varepsilon_1  \\\\\n",
    "y_2 &=\\beta_1 x_{21}+\\beta_2 x_{22}+\\beta_3 x_{23}+\\cdots+\\beta_p x_{2p}+\\varepsilon_1  \\\\\n",
    "\\vdots& \\\\\n",
    "y_n &=\\beta_1 x_{n1}+\\beta_2 x_{n2}+\\beta_3 x_{n3}+\\cdots+\\beta_p x_{np}+\\varepsilon_1  \\\\\n",
    "\\end{split}\n",
    "\\\\]\n",
    "\n",
    "Podemos escribirlo en forma de matriz:\n",
    "\\\\[\n",
    "\\begin{bmatrix}\n",
    " y_1 \\\\ \n",
    " y_2 \\\\ \n",
    " \\vdots \\\\ \n",
    " y_n \n",
    "\\end{bmatrix}\n",
    "=\n",
    "\\begin{bmatrix}\n",
    " x_{11} & x_{12} & x_{13} & \\cdots & x_{1p} \\\\ \n",
    " x_{21} & x_{22} & x_{23} & \\cdots & x_{2p} \\\\ \n",
    " \\vdots & & & \\ddots & \\vdots \\\\ \n",
    " x_{n1} & x_{n2} & x_{n3} & \\cdots & x_{np}\n",
    "\\end{bmatrix}\n",
    "\\begin{bmatrix}\n",
    "\\beta_1 \\\\ \n",
    "\\beta_2 \\\\\n",
    "\\beta_3 \\\\\n",
    "\\vdots  \\\\\n",
    "\\beta_p\n",
    "\\end{bmatrix}+\n",
    "\\begin{bmatrix}\n",
    " \\varepsilon_1 \\\\ \n",
    " \\varepsilon_2 \\\\ \n",
    " \\vdots \\\\ \n",
    " \\varepsilon_n\n",
    "\\end{bmatrix}\n",
    "\\\\]\n",
    "Lo que se puede simplificar como:\n",
    "\\\\[\n",
    "Y=X \\beta+\\varepsilon\n",
    "\\\\]\n",
    "\n",
    "Al igual que en el caso anterior podemos estimar $\\beta$ con:\n",
    "\\\\[\n",
    "\\beta=\\left( X^{\\intercal}X  \\right)^{-1} X^{\\intercal} Y\n",
    "\\\\]"
   ]
  },
  {
   "cell_type": "code",
   "execution_count": null,
   "metadata": {},
   "outputs": [],
   "source": [
    "n<-20\n",
    "x<-seq(-10,30,length.out = n)\n",
    "df<-data.frame(x,y = x-3*x-2*x^2+0.1*x^3+1+rnorm(n,mean=1,sd=80))\n",
    "model <- lm(y~poly(x,3),data=df)\n",
    "model$coef\n",
    "options(repr.plot.height=4,repr.plot.width=6)\n",
    "\n",
    "plot(df$x,df$y)\n",
    "lines(df$x,predict(model,df),col=\"red\")\n",
    "grid()"
   ]
  },
  {
   "cell_type": "markdown",
   "metadata": {},
   "source": [
    "Esta fórmula nos garantiza que el error (residuo) cuadrático medio sea mínimo:\n",
    "\\\\[\n",
    "MSE = {1 \\over n} \\sum_{i=0}^n{(Y-\\hat{Y})^2}\n",
    "\\\\]\n",
    "\n",
    "Es decir, nuestra tarea consiste en **minimizar** la **función de coste** ($MSE$) para que nuestro modelo $\\hat{Y}$ sea **óptimo**.\n",
    "\n",
    "\n",
    "\n"
   ]
  },
  {
   "cell_type": "markdown",
   "metadata": {},
   "source": [
    "## Coeficiente de determinación $R^2$\n",
    "\n",
    "\n",
    "Proporciona una medida de como de bien nuestra medida sigue al modelo. Se calcula mediante:\n",
    "\n",
    "\\\\[\n",
    "R^2=1-\\frac{SS_{res}}{SS_{tot}}=1-\\frac{MSE(y,y')}{VAR(y)}\n",
    "\\\\]\n",
    "\n",
    "Donde $SS_{res}$ es la suma del cuadrado de los residuos:\n",
    "\\\\[\n",
    "SS_{res}=\\sum_i (y_i-y_i')^2\n",
    "\\\\]\n",
    "\n",
    "y $SS_{tot}$ es proporcional a la varianza de $Y$:\n",
    "\n",
    "\\\\[\n",
    "SS_{tot}=\\sum_i (y_i-\\bar{y})^2\n",
    "\\\\]\n",
    "\n",
    "Cuanto más cercano a $1$ mejor seguirá la predicción a los datos reales."
   ]
  },
  {
   "cell_type": "code",
   "execution_count": null,
   "metadata": {},
   "outputs": [],
   "source": [
    "myrsquared<-function(Y,est_Y){\n",
    "    Rsq <- 1-(sum((Y-est_Y)^2))/(sum((Y-mean(Y))^2))\n",
    "    return(Rsq)\n",
    "}"
   ]
  },
  {
   "cell_type": "markdown",
   "metadata": {},
   "source": [
    "## Generalización\n",
    "\n",
    "La habilidad de obtener un resultado en datos no observados se llama **generalización**.\n",
    "\n",
    "El objetivo en estadística era encontrar un modelo que mejor encajara con los datos observados, era un problema de optimización pura. En *Data Mining* queremos un modelo para hacer predicciones, eso significa que necesitamos un modelo que funcione lo mejor posible con **datos que no hemos observado nunca**.\n",
    "\n",
    "Es por ello que los datos se dividen en como mínimo dos grupos:\n",
    "* Datos de **entrenamiento**: Son los datos con los que entrenaremos nuestro modelo.\n",
    "* Datos de **test**: Son los datos con los que comprobaremos la calidad de nuestro modelo. Son datos que el modelo no ha visto nunca."
   ]
  },
  {
   "cell_type": "markdown",
   "metadata": {},
   "source": [
    "Veamos un ejemplo, supongamos que tenemos los siguientes datos"
   ]
  },
  {
   "cell_type": "code",
   "execution_count": null,
   "metadata": {},
   "outputs": [],
   "source": [
    "library(ggplot2)\n",
    "x<-c(-1.1,-1.05,0.99,0.95,-0.5,-0.55,0,0.1,0.7,0.71,0.9,0.91,1.5,1.85,1.95,1.99,2,2.1,3,3.1,-0.20,0.04,1.21,1.59,2.23,2.97)\n",
    "y<-c(17.462034,17.543560,17.044042,13.444434,9.866625,10.191937,9.425260,9.998468,13.910648,13.645024,15.083907,14.610008,16.161246,16.482340,17.106625,15.919612,15.488990,14.781905,15.162828,19.362935,9.24160,10.20768,16.65628,16.88339,15.29640,15.77241)\n",
    "data.df<-data.frame(x,y)\n",
    "ggplot(data.df,aes(x=x,y=y))+geom_point()+theme_linedraw()"
   ]
  },
  {
   "cell_type": "markdown",
   "metadata": {},
   "source": [
    "Queremos hacer un modelo que dado un valor de X, me de el valor más cercano de Y. Podemos probar con modelos más o menos complejos, con distinto grado:"
   ]
  },
  {
   "cell_type": "code",
   "execution_count": null,
   "metadata": {},
   "outputs": [],
   "source": [
    "model<-lm(y~poly(x,4),data=data.df)\n",
    "new.data.df<-data.frame(x=c(data.df$x,seq(-1,3,length.out=100)),y=NA,yp=NA)\n",
    "new.data.df$yp<-predict(model,new.data.df)\n",
    "\n",
    "data.df$yp<-predict(model,data.df)\n",
    "\n",
    "new.data.df<-rbind(new.data.df,data.df)\n",
    "ggplot(new.data.df,aes(x=x,y=y))+geom_point(na.rm=TRUE)+geom_line(aes(y=yp),color=\"blue\")+theme_linedraw()\n",
    "\n",
    "caret::postResample(pred=data.df$yp, obs=data.df$y)"
   ]
  },
  {
   "cell_type": "markdown",
   "metadata": {},
   "source": [
    "Cual de todos los modelos es el mejor? Acordaros que buscamos generalización, queremos que el modelo se comporte lo mejor posible con datos que no ha visto. \n",
    "Por ello dividimos nuestros datos entre test y training. Una buena prácita consiste en usar un 70%-80% para entrenamiento y el resto para tests. \n",
    "En este caso podemos por ejemplo coger 20 muestras para entrenamiento y el resto para test"
   ]
  },
  {
   "cell_type": "code",
   "execution_count": null,
   "metadata": {},
   "outputs": [],
   "source": [
    "calcmse<-function(y_real,y_est){\n",
    "  sum((y_real-y_est)^2)/length(y_real)\n",
    "}\n",
    "\n",
    "idx<-1:20\n",
    "train.df<-data.df[idx,c(\"x\",\"y\")]\n",
    "test.df<-data.df[-idx,c(\"x\",\"y\")]"
   ]
  },
  {
   "cell_type": "code",
   "execution_count": null,
   "metadata": {},
   "outputs": [],
   "source": [
    "model<-lm(y~poly(x,10),data=train.df)\n",
    "\n",
    "new.data.df<-data.frame(x=c(data.df$x,seq(-1,3,length.out=100)),y=NA,yp=NA)\n",
    "new.data.df$yp<-predict(model,new.data.df)\n",
    "\n",
    "data.df$yp<-predict(model,data.df)\n",
    "\n",
    "new.data.df<-rbind(new.data.df,data.df)\n",
    "new.data.df$type<-\"Training\"\n",
    "\n",
    "test.df$type<-\"Testing\"\n",
    "test.df$yp<-predict(model,test.df)\n",
    "new.data.df<-rbind(new.data.df,test.df)\n",
    "\n",
    "\n",
    "ggplot(new.data.df,aes(x=x,y=y))+geom_point(na.rm=TRUE,aes(color=type))+\n",
    "  geom_line(aes(y=yp),color=\"blue\")+theme_linedraw()\n",
    "paste(\"El MSE training es:\",calcmse(y_real=train.df$y, y_est=predict(model,train.df)))\n",
    "paste(\"El MSE testing es:\", calcmse(y_real=test.df$y,  y_est=predict(model,test.df)))"
   ]
  },
  {
   "cell_type": "code",
   "execution_count": null,
   "metadata": {},
   "outputs": [],
   "source": [
    "\n",
    "mse_train<-c()\n",
    "mse_test<-c()\n",
    "for (i in 1:11){\n",
    "  model<-glm(formula=y~poly(x,i),data=train.df)\n",
    "  yp_train<-predict(model,train.df)\n",
    "  mse_train[i]<-calcmse(train.df$y,yp_train)\n",
    "  \n",
    "  yp_test<-predict(model,test.df)\n",
    "  mse_test[i] <-calcmse(test.df$y,yp_test)\n",
    "}\n",
    "mse.df<-data.frame(degree=1:length(mse_train),mse=mse_train,type=\"Train\")\n",
    "mse.df<-rbind(mse.df,data.frame(degree=1:length(mse_train),mse=mse_test,type=\"Test\"))\n",
    "ggplot(mse.df,aes(x=degree,y=mse,color=type))+geom_line()+geom_point()\n"
   ]
  },
  {
   "cell_type": "markdown",
   "metadata": {},
   "source": [
    "Si un modelo es demasiado simple tanto el error de test como de entrenamiento será alto.\n",
    "\n",
    "A medida que el modelo es más complejo el error disminuye.\n",
    "\n",
    "Si el modelo es demasiado complejo ocurre el **sobreajuste** el modelo aprende sobre el ruido de nuestro modelo de entrenamiento y no es capaz de  generalizar bien.\n",
    "Para evitar el sobreajuste(overfitting) se puede recurrir a simplificar el modelo o a poner limitaciones sobre el mismo. Esto se conoce con el nombre de regularización.\n",
    "* Regularización Ridge o $L^2$: se evita que los parámetros crezcan demasiado. Se añade la función de coste:\n",
    "\\\\[\n",
    "Coste = {1 \\over n} \\sum_{i=0}^n{(Y-\\hat{Y})^2}+\\lambda \\sum_j \\beta^2\n",
    "\\\\]\n",
    "* Regularización Lasso o $L$: permite seleccionar los parámetros que más afectan al resultado. Se añade la función de coste:\n",
    "\\\\[\n",
    "Coste = {1 \\over n} \\sum_{i=0}^n{(Y-\\hat{Y})^2}+\\lambda \\sum_j | \\beta |\n",
    "\\\\]\n",
    "\n"
   ]
  },
  {
   "cell_type": "markdown",
   "metadata": {},
   "source": [
    "\n",
    "### Prediciendo la potencia de generación de una central de ciclo combinado\n",
    "\n",
    "El conjunto de datos contiene 9568 puntos de datos recopilados de una Central de Ciclo Combinado durante 6 años (2006-2011), cuando la planta de energía se puso a funcionar con carga completa. Las características consisten en variables ambientales promedio por hora, Temperatura Ambiente (AT), Presión ambiente (AP), Humedad relativa (HR) y Vacío de escape (V) para predecir la producción neta de energía eléctrica por hora (PE) de la planta.\n",
    "\n",
    "Las características consisten en variables ambientales promedio por hora\n",
    "- **Producción neta de energía** eléctrica por hora (PE) 420.26-495.76 MW\n",
    "- Temperatura (AT) en el rango de 1.81 ° C y 37.11 ° C,\n",
    "- Presión ambiental (AP) en el rango de 992.89-1033.30 milibares,\n",
    "- Humedad relativa (HR) en el rango de 25.56% a 100.16%\n",
    "- Vacío de escape (V) en el rango de 25.36-81.56 cm Hg\n",
    "\n",
    "Los promedios se toman de varios sensores ubicados alrededor de la planta que registran las variables ambientales cada segundo. Las variables se dan sin normalización.\n",
    "\n",
    "\n",
    "https://archive.ics.uci.edu/ml/datasets/Combined+Cycle+Power+Plant"
   ]
  },
  {
   "cell_type": "code",
   "execution_count": null,
   "metadata": {},
   "outputs": [],
   "source": [
    "powerplant<-read.csv(\"data/powerplant.csv\")\n",
    "\n",
    "options(repr.plot.height=4,repr.plot.width=6)\n",
    "plot(powerplant,pch='.')"
   ]
  },
  {
   "cell_type": "code",
   "execution_count": null,
   "metadata": {},
   "outputs": [],
   "source": [
    "library(GGally)\n",
    "ggpairs(powerplant, \n",
    "        lower = list(continuous = wrap(\"density\", alpha = 0.8,size=0.2,color='blue'))\n",
    "       #lower = list(continuous = wrap(\"points\", alpha = 0.3,size=0.1,color='blue'))\n",
    "       )"
   ]
  },
  {
   "cell_type": "code",
   "execution_count": null,
   "metadata": {},
   "outputs": [],
   "source": [
    "set.seed(12345)\n",
    "idx<-sample(1:nrow(powerplant),nrow(powerplant)*0.7)\n",
    "powerplant.train<-powerplant[idx,]\n",
    "powerplant.test <-powerplant[-idx,]\n",
    "model_powerplant<-lm(PE~.,data=powerplant.train)\n",
    "summary(model_powerplant)"
   ]
  },
  {
   "cell_type": "code",
   "execution_count": null,
   "metadata": {},
   "outputs": [],
   "source": [
    "powerplant.train$pe_est<-predict(model_powerplant,powerplant.train)\n",
    "#plot(powerplant.train$PE,(powerplant.train$PE-powerplant.train$pe_est)^2)\n",
    "plot(powerplant.train$PE,(powerplant.train$PE-powerplant.train$pe_est))\n",
    "paste(\"MSE:\", sqrt(mean((powerplant.train$PE-powerplant.train$pe_est)^2)))\n",
    "paste(\"R^2:\", myrsquared(powerplant.train$PE,powerplant.train$pe_est))\n",
    "caret::postResample(pred=powerplant.train$pe_est, obs= powerplant.train$PE)"
   ]
  },
  {
   "cell_type": "markdown",
   "metadata": {},
   "source": [
    "En la gráfica anterior observamos que la varianza de los residuos es más o menos constante a lo largo de todo el rango predicho.  Es decir, NO hay **Heterocedasticidad** o hay muy poca.\n",
    "\n",
    "En la siguiente podemos ver como los residuos siguen una distribución normal."
   ]
  },
  {
   "cell_type": "code",
   "execution_count": null,
   "metadata": {},
   "outputs": [],
   "source": [
    "hist(powerplant.train$PE-powerplant.train$pe_est,20)\n",
    "qqnorm(powerplant.train$PE-powerplant.train$pe_est)\n",
    "qqline(powerplant.train$PE-powerplant.train$pe_est, col = 'orange', lwd =2)"
   ]
  },
  {
   "cell_type": "code",
   "execution_count": null,
   "metadata": {},
   "outputs": [],
   "source": [
    "res <- (powerplant.train$PE-powerplant.train$pe_est)\n",
    "shapiro.test(res[sample(1:length(res),1000)])"
   ]
  },
  {
   "cell_type": "code",
   "execution_count": null,
   "metadata": {},
   "outputs": [],
   "source": [
    "\n",
    "ks.test((powerplant.train$PE-powerplant.train$pe_est),pnorm,0,sd((powerplant.train$PE-powerplant.train$pe_est)))"
   ]
  },
  {
   "cell_type": "markdown",
   "metadata": {},
   "source": [
    "Analicemos ahora el conjunto de test"
   ]
  },
  {
   "cell_type": "code",
   "execution_count": null,
   "metadata": {
    "scrolled": false
   },
   "outputs": [],
   "source": [
    "powerplant.test$pe_est<-predict(model_powerplant,powerplant.test)\n",
    "plot(powerplant.test$PE,(powerplant.test$PE-powerplant.test$pe_est))\n",
    "\n",
    "caret::postResample(pred=powerplant.test$pe_est, obs= powerplant.test$PE)\n",
    "\n",
    "hist(powerplant.test$PE-powerplant.test$pe_est,20)\n",
    "qqnorm(powerplant.test$PE-powerplant.test$pe_est)\n",
    "qqline(powerplant.test$PE-powerplant.test$pe_est, col = 'orange', lwd =2)"
   ]
  },
  {
   "cell_type": "markdown",
   "metadata": {},
   "source": [
    "### Distancia Cooks\n",
    "\n",
    "La distancia de Cooks nos sirve para detectar outliers, valores cuyo valor influye mucho en la salida de la regresión lineal.\n",
    "\n",
    "Se calcula mirando la diferencia entre el modelo completo con todas las muestras menos el modelo generado eliminando la muestra bajo estudio. La distancia de cook para la muestra $i$ se puede calcular como:\n",
    "\\\\[\n",
    "D_i \\frac{\\sum_{j=1}^N (\\hat Y_j - \\hat Y_{j(i)})^2}{(p+1)·\\hat \\sigma ^2}\n",
    "\\\\]"
   ]
  },
  {
   "cell_type": "code",
   "execution_count": null,
   "metadata": {},
   "outputs": [],
   "source": [
    "plot(cooks.distance(model_powerplant))"
   ]
  },
  {
   "cell_type": "code",
   "execution_count": null,
   "metadata": {},
   "outputs": [],
   "source": [
    "powerplant.train_clean<-powerplant.train[cooks.distance(model_powerplant)<0.005,]\n",
    "model_powerplant_clean<-lm(PE~AT+V+AP+RH,data=powerplant.train_clean)\n",
    "summary(model_powerplant_clean)"
   ]
  },
  {
   "cell_type": "code",
   "execution_count": null,
   "metadata": {},
   "outputs": [],
   "source": [
    "powerplant.test$pe_est<-predict(model_powerplant_clean,powerplant.test)\n",
    "plot(powerplant.test$PE,(powerplant.test$PE-powerplant.test$pe_est))\n",
    "sqrt(mean((powerplant.test$PE-powerplant.test$pe_est)^2))\n",
    "myrsquared(powerplant.test$PE,powerplant.test$pe_est)"
   ]
  },
  {
   "cell_type": "markdown",
   "metadata": {},
   "source": [
    "### Mejorando el modelo cerebro/peso"
   ]
  },
  {
   "cell_type": "code",
   "execution_count": null,
   "metadata": {},
   "outputs": [],
   "source": [
    "library(MASS)\n",
    "library(dplyr)\n",
    "library(tibble)\n",
    "\n",
    "unique(rbind(Animals, mammals)) %>% rownames_to_column(var = \"especie\") %>% \n",
    "    mutate(log_body=log10(body)) %>%\n",
    "    mutate(log_brain=log10(brain)) -> animals_log\n",
    "\n",
    "set.seed(1111)\n",
    "idx <- sample(1:nrow(animals_log),nrow(animals_log)*0.7)\n",
    "animals_log_train <- animals_log[idx,]\n",
    "animals_log_test <- animals_log[-idx,]"
   ]
  },
  {
   "cell_type": "code",
   "execution_count": null,
   "metadata": {},
   "outputs": [],
   "source": [
    "model_body_brain <- lm(log_brain ~ log_body, data = animals_log_train)\n",
    "summary(model_body_brain)"
   ]
  },
  {
   "cell_type": "code",
   "execution_count": null,
   "metadata": {},
   "outputs": [],
   "source": [
    "caret::postResample(pred=predict(model_body_brain,animals_log_train), obs= animals_log_train$log_brain)\n",
    "caret::postResample(pred=predict(model_body_brain,animals_log_test), obs= animals_log_test$log_brain)"
   ]
  },
  {
   "cell_type": "code",
   "execution_count": null,
   "metadata": {},
   "outputs": [],
   "source": [
    "plot(cooks.distance(model_body_brain))\n",
    "\n",
    "th = 0.07\n",
    "abline(h=th,col='red')\n",
    "animals_log_train[cooks.distance(model_body_brain)>th,]"
   ]
  },
  {
   "cell_type": "code",
   "execution_count": null,
   "metadata": {},
   "outputs": [],
   "source": [
    "animals_log_train_clean <- animals_log_train[cooks.distance(model)<th,]\n",
    "model_body_brain <- lm(log_brain ~ log_body, data = animals_log_train_clean)\n",
    "summary(model_body_brain)\n"
   ]
  },
  {
   "cell_type": "code",
   "execution_count": null,
   "metadata": {},
   "outputs": [],
   "source": [
    "caret::postResample(pred=predict(model_body_brain,animals_log_train_clean), \n",
    "                    obs= animals_log_train_clean$log_brain)\n",
    "caret::postResample(pred=predict(model_body_brain,animals_log_test), obs= animals_log_test$log_brain)"
   ]
  },
  {
   "cell_type": "markdown",
   "metadata": {},
   "source": [
    "### Prediciendo la dureza del hormigón\n",
    "\n",
    "Resumen: El hormigón es el material más importante en la ingeniería civil. La resistencia a la compresión del hormigón es una función altamente no lineal de la edad y ingredientes Estos ingredientes incluyen cemento, escoria de alto horno, cenizas volantes, agua, superplastificante, agregado grueso y agregado fino.\n",
    "\n",
    "Fuente:\n",
    "https://archive.ics.uci.edu/ml/datasets/Concrete+Compressive+Strength\n",
    "\n",
    "**Características de los datos:**\n",
    "    \n",
    "La resistencia a la compresión real del hormigón (MPa) para una mezcla dada bajo un\n",
    "la edad específica (días) se determinó a partir del laboratorio. Los datos están en forma cruda (no a escala).\n",
    "\n",
    "**Resumen estadístico:**\n",
    "\n",
    "Número de instancias (observaciones): 1030\n",
    "Cantidad de Atributos: 9\n",
    "Desglose de atributos: 8 variables de entrada cuantitativas y 1 variable de salida cuantitativa\n",
    "Faltan valores de atributo: ninguno\n",
    "\n",
    "\n",
    "* Cemento (componente 1) - cuantitativo - kg en una mezcla m3 - Variable de entrada\n",
    "* Escoria de alto horno (componente 2) - cuantitativa - kg en una mezcla de m3 - Variable de entrada\n",
    "* Cenizas volantes (componente 3) - cuantitativo - kg en una mezcla m3 - Variable de entrada\n",
    "* Agua (componente 4) - cuantitativa - kg en una mezcla m3 - Variable de entrada\n",
    "* Superplastificante (componente 5) - cuantitativo - kg en una mezcla m3 - Variable de entrada\n",
    "* Agregado grueso (componente 6) - cuantitativo - kg en una mezcla m3 - Variable de entrada\n",
    "* Agregado fino (componente 7) - cuantitativo - kg en una mezcla m3 - Variable de entrada\n",
    "* Edad - cuantitativa - Día (1 ~ 365) - Variable de entrada\n",
    "* Resistencia a la compresión del hormigón - cuantitativa - MPa - Variable de salida\n"
   ]
  },
  {
   "cell_type": "code",
   "execution_count": null,
   "metadata": {},
   "outputs": [],
   "source": [
    "concrete<-read.csv(\"data/Concrete_Data.csv\",\n",
    "                   col.names=c(\"cemento\",\"escoria\",\"cenizas\",\"agua\",\"plastificante\",\"aggrueso\",\"agfino\",\"edad\",\"resistencia\"))\n",
    "head(concrete)"
   ]
  },
  {
   "cell_type": "code",
   "execution_count": null,
   "metadata": {},
   "outputs": [],
   "source": [
    "ggpairs(concrete, \n",
    "        lower = list(continuous = wrap(\"density\", alpha = 0.8,size=0.2,color='blue'))\n",
    "       #lower = list(continuous = wrap(\"points\", alpha = 0.3,size=0.1,color='blue'))\n",
    "       )"
   ]
  },
  {
   "cell_type": "code",
   "execution_count": null,
   "metadata": {},
   "outputs": [],
   "source": [
    "set.seed(12)\n",
    "idx<-sample(1:nrow(concrete),nrow(concrete)*0.7)\n",
    "train.df<-concrete[idx,]\n",
    "test.df<-concrete[-idx,]"
   ]
  },
  {
   "cell_type": "code",
   "execution_count": null,
   "metadata": {},
   "outputs": [],
   "source": [
    "model<-lm(resistencia~.-agfino,train.df)\n",
    "summary(model)"
   ]
  },
  {
   "cell_type": "code",
   "execution_count": null,
   "metadata": {},
   "outputs": [],
   "source": [
    "paste(\"R^2 testing:\",myrsquared(test.df$resistencia,predict(model,test.df)))\n",
    "plot(train.df$resistencia,train.df$resistencia-predict(model,train.df))\n",
    "plot(test.df$resistencia,test.df$resistencia-predict(model,test.df))\n",
    "hist(test.df$resistencia-predict(model,test.df))"
   ]
  },
  {
   "cell_type": "code",
   "execution_count": null,
   "metadata": {},
   "outputs": [],
   "source": [
    "calcmse<-function(y_real,y_est){\n",
    "  sum((y_real-y_est)^2,na.rm = T)/length(y_real)\n",
    "}\n",
    "\n",
    "mse_train<-c()\n",
    "mse_test<-c()\n",
    "for (N in 1:5){\n",
    "    model<-lm(resistencia~\n",
    "           poly(cemento,N)*poly(escoria,N)*poly(cenizas,N)+\n",
    "           poly(agua,N)*poly(plastificante,N)+\n",
    "           poly(aggrueso,N)*poly(agfino,N)+\n",
    "           poly(edad,N),data = train.df)\n",
    "    \n",
    "    yp_train<-predict(model,train.df)\n",
    "    mse_train[N]<-calcmse(train.df$resistencia,yp_train)\n",
    "  \n",
    "    yp_test<-predict(model,test.df)\n",
    "    mse_test[N] <-calcmse(test.df$resistencia,yp_test)\n",
    "}\n",
    "mse.df<-data.frame(degree=1:length(mse_train),mse=mse_train,type=\"Train\")\n",
    "mse.df<-rbind(mse.df,data.frame(degree=1:length(mse_train),mse=mse_test,type=\"Test\"))\n",
    "\n",
    "library(ggplot2)\n",
    "options(repr.plot.height=4,repr.plot.width=6)\n",
    "\n",
    "ggplot(mse.df,aes(x=degree,y=mse,color=type))+geom_line()+geom_point()+scale_y_log10()\n"
   ]
  },
  {
   "cell_type": "code",
   "execution_count": null,
   "metadata": {},
   "outputs": [],
   "source": [
    "mse.df"
   ]
  },
  {
   "cell_type": "code",
   "execution_count": null,
   "metadata": {},
   "outputs": [],
   "source": [
    "N<-2\n",
    "model<-lm(resistencia~\n",
    "       poly(cemento,N)*poly(escoria,N)*poly(cenizas,N)+\n",
    "       poly(agua,N)*poly(plastificante,N)+\n",
    "       poly(aggrueso,N)*poly(agfino,N)+\n",
    "       poly(edad,N),data = train.df)\n",
    "paste(\"R^2 testing:\",myrsquared(test.df$resistencia,predict(model,test.df)))\n",
    "plot(train.df$resistencia,train.df$resistencia-predict(model,train.df))\n",
    "plot(test.df$resistencia,test.df$resistencia-predict(model,test.df))\n",
    "hist(test.df$resistencia-predict(model,test.df),10)\n"
   ]
  },
  {
   "cell_type": "code",
   "execution_count": null,
   "metadata": {},
   "outputs": [],
   "source": [
    "qqnorm(test.df$resistencia-predict(model,test.df))\n",
    "qqline(test.df$resistencia-predict(model,test.df), col = 'orange', lwd =2)"
   ]
  },
  {
   "cell_type": "markdown",
   "metadata": {},
   "source": [
    "## Variables categóricas\n",
    "\n",
    "Variables categóricas son aquellas que no presentan un valor de un número real sino una categoría, es decir pueden tomar un valor dentro de un conjunto fijo y limitado de posible valores, con o sin orden. Ejemplo:\n",
    "* Variables binarias: Si/No\n",
    "* Categóricas con orden: nada/poco/normal/mucho.\n",
    "* Categóricas sin orden: rojo/verde/azul\n",
    "\n",
    "Antes de utilizar una de estas variables en un algoritmo de aprendizaje hay que convertirlo a un número real, es necesario **coficarlo** para que el algoritmo correspondiente lo interprete correctamente."
   ]
  },
  {
   "cell_type": "markdown",
   "metadata": {},
   "source": [
    "#### Ejemplo peso de niños/niñas en función de la edad y del peso\n",
    "\n",
    "Queremos un modelo completo para calcular la longitud de un bebé en función de su edad en dias y su peso en kg."
   ]
  },
  {
   "cell_type": "code",
   "execution_count": null,
   "metadata": {},
   "outputs": [],
   "source": [
    "set.seed(123)\n",
    "boys<-read.csv(\"data/lhfa_boys_p_exp.txt\",sep=\"\")\n",
    "boys$gender<-\"boy\"\n",
    "girls<-read.csv(\"data/lhfa_girls_p_exp.txt\",sep=\"\")\n",
    "girls$gender<-\"girl\"\n",
    "height<-rbind(boys,girls)\n",
    "height[\"s_height\"]<-((height$P25-height$M)/qnorm(0.25)+(height$P75-height$M)/qnorm(0.75))/2\n",
    "height<-height[,c(\"gender\",\"Day\",\"M\",\"s_height\")]\n",
    "colnames(height)<-c(\"gender\",\"day\",\"height\",\"s_height\")\n",
    "\n",
    "boys<-read.csv(\"data/wfa_boys_p_exp.txt\",sep=\"\")\n",
    "boys$gender<-\"boy\"\n",
    "girls<-read.csv(\"data/wfa_girls_p_exp.txt\",sep=\"\")\n",
    "girls$gender<-\"girl\"\n",
    "weight<-rbind(boys,girls)\n",
    "weight[\"s_weight\"]<-((weight$P25-weight$M)/qnorm(0.25)+(weight$P75-weight$M)/qnorm(0.75))/2\n",
    "weight<-weight[,c(\"gender\",\"Age\",\"M\",\"s_weight\")]\n",
    "colnames(weight)<-c(\"gender\",\"day\",\"weight\",\"s_weight\")\n",
    "\n",
    "\n",
    "\n",
    "hw<-merge(height,weight,by=c(\"gender\",\"day\"))\n",
    "n <- 20\n",
    "hw<-do.call(\"rbind\", replicate(n, hw, simplify = FALSE))\n",
    "sample_data=data.frame(gender=hw$gender,\n",
    "                   day=hw$day,\n",
    "                   height=apply(hw[,c(\"height\",\"s_height\")],1,function(x){rnorm(1,mean=x[\"height\"],sd=x[\"s_height\"])}),\n",
    "                   weight=apply(hw[,c(\"weight\",\"s_weight\")],1,function(x){rnorm(1,mean=x[\"weight\"],sd=x[\"s_weight\"])}))\n",
    "idx<-sample(1:nrow(sample_data),200)\n",
    "sample_data<-sample_data[idx,]\n",
    "write.csv(sample_data,file=\"data/weight_babys.csv\",row.names = FALSE)"
   ]
  },
  {
   "cell_type": "code",
   "execution_count": null,
   "metadata": {},
   "outputs": [],
   "source": [
    "df_weight_height=read.csv(\"data/weight_babys.csv\")\n",
    "head(df_weight_height)\n",
    "set.seed(123)\n",
    "idx<-sample(1:nrow(df_weight_height),nrow(df_weight_height)*0.7)\n",
    "train.df<-df_weight_height[idx,]\n",
    "test.df<-df_weight_height[-idx,]"
   ]
  },
  {
   "cell_type": "markdown",
   "metadata": {},
   "source": [
    "Exploramos como se relacionan las variables entre sí, analizándo niños y niñas por separado.\n",
    "Se ve una alta correlación entre peso, altura y edad."
   ]
  },
  {
   "cell_type": "code",
   "execution_count": null,
   "metadata": {},
   "outputs": [],
   "source": [
    "library(GGally)\n",
    "options(repr.plot.height=4,repr.plot.width=6)\n",
    "\n",
    "ggpairs(df_weight_height,ggplot2::aes(colour=gender,alpha=0.5),\n",
    "       lower = list(continuous = wrap(\"points\", alpha = 0.8,size=0.1))\n",
    "                  )"
   ]
  },
  {
   "cell_type": "markdown",
   "metadata": {},
   "source": [
    "Como queremos hacer un modelo predictivo vamos a dividir los datos entre test y training:"
   ]
  },
  {
   "cell_type": "code",
   "execution_count": null,
   "metadata": {},
   "outputs": [],
   "source": [
    "set.seed(123)\n",
    "idx<-sample(1:nrow(df_weight_height),nrow(df_weight_height)*0.7)\n",
    "train.df<-df_weight_height[idx,]\n",
    "test.df<-df_weight_height[-idx,]"
   ]
  },
  {
   "cell_type": "markdown",
   "metadata": {},
   "source": [
    "Calculemos para la formula:\n",
    "\\\\[\n",
    "height = \\beta_0 + \\beta_1·day + \\beta_2·gender\n",
    "\\\\]\n",
    "Donde *gender* es una variable categórica que traducirá a dos valores:\n",
    "* Boy  - 0\n",
    "* Girl - 1"
   ]
  },
  {
   "cell_type": "code",
   "execution_count": null,
   "metadata": {},
   "outputs": [],
   "source": [
    "model<-lm(data=train.df,formula=height~day+gender)\n",
    "summary(model)"
   ]
  },
  {
   "cell_type": "markdown",
   "metadata": {},
   "source": [
    "A igual número de días una niña pesará, aproximadamente, en media 1.07 kg menos.\n",
    "\n",
    "Pero si miramos al intervalo de confianza del coeficiente asociado al género es muy amplio, llegando a ser incluso positivo:"
   ]
  },
  {
   "cell_type": "code",
   "execution_count": null,
   "metadata": {},
   "outputs": [],
   "source": [
    "confint(model)"
   ]
  },
  {
   "cell_type": "markdown",
   "metadata": {},
   "source": [
    "Podemos ver las figuras de calidad de la predicción:\n",
    "\\\\[\n",
    "RMS = \\sqrt{\\frac{\\sum (y_i - \\hat{y}_i)^2}{N}}\n",
    "\\\\]\n",
    "\\\\[\n",
    "R^2 = 1-\\frac{\\sum (y_i - \\hat{y}_i)^2}{\\sum (y_i - \\bar{y})^2}\n",
    "\\\\]\n",
    "\\\\[\n",
    "MAE = \\frac{\\sum | y_i - \\hat{y}_i | }{N}\n",
    "\\\\]"
   ]
  },
  {
   "cell_type": "code",
   "execution_count": null,
   "metadata": {},
   "outputs": [],
   "source": [
    "library(caret)\n",
    "print(\"Training:\")\n",
    "train.df$pred <-  predict(model,train.df)\n",
    "postResample(train.df$pred,obs = train.df$height)\n",
    "print(\"Testing:\")\n",
    "test.df$pred <-  predict(model,test.df)\n",
    "postResample(test.df$pred,obs = test.df$height)"
   ]
  },
  {
   "cell_type": "code",
   "execution_count": null,
   "metadata": {},
   "outputs": [],
   "source": [
    "options(repr.plot.height=2,repr.plot.width=4,repr.plot.res = 400)\n",
    "ggplot(train.df,aes(x=day,y=pred,color=gender))+geom_line()"
   ]
  },
  {
   "cell_type": "markdown",
   "metadata": {},
   "source": [
    "Ahora vamos a intentar otro modelo:\n",
    "\\\\[\n",
    "height = \\beta_0 + \\beta_1·day·(gender==boy) + \\beta_2·day·(gender==girl) \\\\\n",
    "height = \\beta_0 + \\beta_1·day·(1-gender) + \\beta_2·day·(gender)        \n",
    "\\\\]\n",
    "Donde *gender* es una variable categórica que traducirá a dos valores:\n",
    "* Boy  - 0\n",
    "* Girl - 1\n",
    "\n",
    "Por lo tanto:\n",
    "* $\\beta_0$ cuanto mide de media un bebe al nacer. Un niño y una niña medirán lo mismo.\n",
    "* $\\beta_1$ nos dirá cuantos cm crece cada día un niño\n",
    "* $\\beta_2$ nos dirá cuantos cm crece cada día una niña"
   ]
  },
  {
   "cell_type": "code",
   "execution_count": null,
   "metadata": {},
   "outputs": [],
   "source": [
    "model<-lm(data=train.df,formula=height~day:gender)\n",
    "summary(model)"
   ]
  },
  {
   "cell_type": "code",
   "execution_count": null,
   "metadata": {},
   "outputs": [],
   "source": [
    "library(caret)\n",
    "print(\"Training:\")\n",
    "train.df$pred <-  predict(model,train.df)\n",
    "postResample(train.df$pred,obs = train.df$height)\n",
    "print(\"Testing:\")\n",
    "test.df$pred <-  predict(model,test.df)\n",
    "postResample(test.df$pred,obs = test.df$height)"
   ]
  },
  {
   "cell_type": "code",
   "execution_count": null,
   "metadata": {},
   "outputs": [],
   "source": [
    "confint(model)"
   ]
  },
  {
   "cell_type": "code",
   "execution_count": null,
   "metadata": {},
   "outputs": [],
   "source": [
    "ggplot(train.df,aes(x=day,y=pred,color=gender))+geom_line()"
   ]
  },
  {
   "cell_type": "markdown",
   "metadata": {},
   "source": [
    "Por último podríamos pensar en el modelo:\n",
    "\\\\[\n",
    "height = \\beta_0 +\\beta_1·day + \\beta_2·day·(gender==girl)+ \\beta_3·(gender==girl) \\\\\n",
    "height = \\beta_0 + \\beta_1·day + \\beta_2·day·(gender)+ \\beta_3·gender\n",
    "\\\\]\n",
    "Donde *gender* es una variable categórica que traducirá a dos valores:\n",
    "* Boy  - 0\n",
    "* Girl - 1\n",
    "\n",
    "Por lo tanto:\n",
    "* $\\beta_0$ cuanto mide de media un niño al nacer\n",
    "* $\\beta_1$ nos dirá cuantos cm crece cada día un niño\n",
    "* $\\beta_2$ nos dirá cuantos cm crece cada día una niña en exceso sobre un niño\n",
    "* $\\beta_3$ nos dirá cuantos cm de más mide una niña al nacer respecto un niño"
   ]
  },
  {
   "cell_type": "code",
   "execution_count": null,
   "metadata": {},
   "outputs": [],
   "source": [
    "model<-lm(data=train.df,formula=height~day*gender)\n",
    "#model<-lm(data=train.df,formula=height~day:gender+day+gender)\n",
    "summary(model)"
   ]
  },
  {
   "cell_type": "code",
   "execution_count": null,
   "metadata": {},
   "outputs": [],
   "source": [
    "confint(model)"
   ]
  },
  {
   "cell_type": "code",
   "execution_count": null,
   "metadata": {},
   "outputs": [],
   "source": [
    "options(repr.plot.height=2,repr.plot.width=4,repr.plot.res = 400)\n",
    "ggplot(train.df,aes(x=day,y=pred,color=gender))+geom_line()"
   ]
  },
  {
   "cell_type": "markdown",
   "metadata": {},
   "source": [
    "## Codificación de variables categóricas"
   ]
  },
  {
   "cell_type": "markdown",
   "metadata": {},
   "source": [
    "### One-hot\n",
    "\n",
    "Se crean N columnas nuevas, tantas como posibles valores tenga la variable categórica.\n",
    "Se asigna un valor de 1 a la variable que tiene ese valor 0 en caso contrario.\n",
    "\n",
    "\n",
    "|-|col1|col2|col3|col4|\n",
    "|-|:--:| -----:|--|--|\n",
    "|categoria1|1|0|0|0|\n",
    "|categoria2|0|1|0|0|\n",
    "|categoria3|0|0|1|0|\n",
    "|categoria4|0|0|0|1|"
   ]
  },
  {
   "cell_type": "code",
   "execution_count": null,
   "metadata": {},
   "outputs": [],
   "source": [
    "df_new_econding<-df_weight_height\n",
    "df_new_econding$boy<-ifelse(df_new_econding$gender==\"boy\",1,0)\n",
    "df_new_econding$girl<-ifelse(df_new_econding$gender==\"girl\",1,0)\n",
    "df_new_econding$gender<-NULL\n",
    "#set.seed(123)\n",
    "#idx<-sample(1:nrow(df_new_econding),nrow(df_new_econding)*0.7)\n",
    "train.df<-df_new_econding[idx,]\n",
    "test.df<-df_new_econding[-idx,]"
   ]
  },
  {
   "cell_type": "code",
   "execution_count": null,
   "metadata": {},
   "outputs": [],
   "source": [
    "head(train.df)"
   ]
  },
  {
   "cell_type": "code",
   "execution_count": null,
   "metadata": {},
   "outputs": [],
   "source": [
    "model<-lm(data=train.df,formula=height~day:boy+day:girl)\n",
    "summary(model)"
   ]
  },
  {
   "cell_type": "code",
   "execution_count": null,
   "metadata": {},
   "outputs": [],
   "source": [
    "model<-lm(data=train.df,formula=height~day+girl)\n",
    "summary(model)"
   ]
  },
  {
   "cell_type": "markdown",
   "metadata": {},
   "source": [
    "### Dummy\n",
    "\n",
    "Se crean N-1 columnas nuevas, tantas como posibles valores tenga la variable categórica menos una.\n",
    "para una categoría en la que todos los valores serán 0, esa catergoría será usada como base del modelo.\n",
    "Al resto de columnas se le asigna un valor de 1 a la variable que tiene ese valor 0 en caso contrario. \n",
    "\n",
    "|-|col1|col2|col3|\n",
    "|-|:--:| -----:|--|\n",
    "|categoria1|0|0|0|\n",
    "|categoria2|1|0|0|\n",
    "|categoria3|0|1|0|\n",
    "|categoria4|0|0|1|\n"
   ]
  },
  {
   "cell_type": "code",
   "execution_count": null,
   "metadata": {},
   "outputs": [],
   "source": [
    "df_new_econding<-df_weight_height\n",
    "df_new_econding$girl<-ifelse(df_new_econding$gender==\"girl\",1,0)\n",
    "df_new_econding$gender<-NULL\n",
    "set.seed(123)\n",
    "idx<-sample(1:nrow(df_new_econding),nrow(df_new_econding)*0.7)\n",
    "train.df<-df_new_econding[idx,]\n",
    "test.df<-df_new_econding[-idx,]"
   ]
  },
  {
   "cell_type": "code",
   "execution_count": null,
   "metadata": {},
   "outputs": [],
   "source": [
    "model<-lm(data=train.df,formula=height~day+day:girl)\n",
    "summary(model)"
   ]
  },
  {
   "cell_type": "code",
   "execution_count": null,
   "metadata": {},
   "outputs": [],
   "source": [
    "paste(\"El coeficiente final para las niñas es:\",model$coefficients[2]+model$coefficients[3])"
   ]
  },
  {
   "cell_type": "markdown",
   "metadata": {},
   "source": [
    "La ecuación equivalente sería:\n",
    "\\\\[\n",
    "height = \\beta_0 + \\beta_1·day + \\beta_2·day·girl \\\\\n",
    "height = \\beta_0 + (\\beta_1+\\beta_2·girl)·day\n",
    "\\\\]"
   ]
  },
  {
   "cell_type": "markdown",
   "metadata": {},
   "source": [
    "### Ortogonal de polinomios\n",
    "\n",
    "La codificación ortogonal de polinomios es una forma de análisis de tendencias en el sentido de que busca tendencias lineales, cuadráticas, cúbicas, grado-n, etc.. en la variable categórica. Este tipo de sistema de codificación debe usarse solo con una variable ordinal en la que los niveles están equiespaciados. \n",
    "\n",
    "|-| .L|.Q|.C|\n",
    "|-|:--:| -----:|--|\n",
    "|categoria1| -0.6708204 |  0.5 | -0.2236068 |\n",
    "|categoria2| -0.2236068 | -0.5 | 0.6708204 |\n",
    "|categoria3|  0.2236068 | -0.5 | -0.6708204|\n",
    "|categoria4|  0.6708204 |  0.5 | 0.2236068|\n",
    "\n",
    "\n",
    "\n",
    "### Codificación Helmert\n",
    "\n",
    "La codificación Helmert compara cada nivel de una variable categórica con la media de los niveles subsiguientes. Por lo tanto, el primer contraste compara la media de la variable dependiente para el nivel 1 con la media de todos los niveles posteriores (niveles 2, 3 y 4), el segundo contraste compara la media de la variable dependiente para el nivel 2  con la media de todos los niveles posteriores (niveles 3 y 4), y el tercer contraste compara la media de la variable dependiente para el nivel 3  con la media de todos los niveles posteriores (nivel 4).\n",
    "\n",
    "|-|col1|col2|col3|\n",
    "|-|:--:| -----:|--|\n",
    "|categoria1|-1|-1|-1|\n",
    "|categoria2|1|-1|-1|\n",
    "|categoria3|0|2|-1|\n",
    "|categoria4|0|0|3|"
   ]
  },
  {
   "cell_type": "markdown",
   "metadata": {},
   "source": [
    "### Ejemplo \n",
    "The Food and Agriculture Organization of the United Nations provides free access to food and agriculture data for over 245 countries and territories, from the year 1961 to the most recent update (depends on the dataset). One dataset from the FAO's database is the Food Balance Sheets. It presents a comprehensive picture of the pattern of a country's food supply during a specified reference period, the last time an update was loaded to the FAO database was in 2013. The food balance sheet shows for each food item the sources of supply and its utilization. This chunk of the dataset is focused on two utilizations of each food item available:\n",
    "\n",
    "    Food - refers to the total amount of the food item available as human food during the reference period.\n",
    "    Feed - refers to the quantity of the food item available for feeding to the livestock and poultry during the reference period.\n",
    "\n",
    "https://www.kaggle.com/dorbicycle/world-foodfeed-production\n"
   ]
  },
  {
   "cell_type": "code",
   "execution_count": null,
   "metadata": {},
   "outputs": [],
   "source": [
    "fao=read.csv('./data/FAO.csv', stringsAsFactors = T)\n",
    "head(fao)"
   ]
  },
  {
   "cell_type": "code",
   "execution_count": null,
   "metadata": {},
   "outputs": [],
   "source": [
    "fao=fao[c(3,5,7,11:63)]\n",
    "head(fao)"
   ]
  },
  {
   "cell_type": "code",
   "execution_count": null,
   "metadata": {},
   "outputs": [],
   "source": [
    "levels(fao$Item)[levels(fao$Item)==\"Wheat and products\"] <- \"Wheat\"\n",
    "levels(fao$Item)[levels(fao$Item)==\"Barley and products\"]<-\"Barley\"\n",
    "levels(fao$Item)[levels(fao$Item)==\"Rice (Milled Equivalent)\"]<-\"Rice\"\n",
    "levels(fao$Item)[levels(fao$Item)==\"Maize and products\"]<-\"Maize\"\n",
    "items<-c(\"Wheat\",\"Rice\",\"Barley\",\"Maize\")\n",
    "fao<-fao[fao$Item %in% items,]\n",
    "fao$Item<-droplevels(fao$Item)\n",
    "head(fao)"
   ]
  },
  {
   "cell_type": "code",
   "execution_count": null,
   "metadata": {},
   "outputs": [],
   "source": [
    "library(reshape2)\n",
    "fao=melt(fao,id.vars=c(\"Area\",\"Item\",\"Element\"))\n",
    "head(fao)"
   ]
  },
  {
   "cell_type": "code",
   "execution_count": null,
   "metadata": {},
   "outputs": [],
   "source": [
    "fao$year<-as.numeric(substr(fao$variable,2,5))\n",
    "head(fao)"
   ]
  },
  {
   "cell_type": "code",
   "execution_count": null,
   "metadata": {},
   "outputs": [],
   "source": [
    "library(dplyr)\n",
    "fao_sum<-fao %>% group_by(Item,Element,year) %>% summarise(value=mean(value,na.rm=T))\n",
    "\n",
    "options(repr.plot.height=4,repr.plot.width=6)\n",
    "library(ggplot2)\n",
    "ggplot(subset(fao_sum,Element==\"Food\"),aes(x=year,y=value,color=Item))+geom_line()\n",
    "ggplot(subset(fao_sum,Element==\"Feed\"),aes(x=year,y=value,color=Item))+geom_line()"
   ]
  },
  {
   "cell_type": "code",
   "execution_count": null,
   "metadata": {},
   "outputs": [],
   "source": [
    "model<-lm(data=fao,formula=\"value~year+Item+Element\")\n",
    "summary(model)"
   ]
  },
  {
   "cell_type": "markdown",
   "metadata": {},
   "source": [
    "## Contrastes\n",
    "\n",
    "Los \"contrastes\" definidos en el entorno R determinan como las variables categóricas son gestionadas en los modelos. El patrón más comun para los modelos es el \"treatment contrasts\", que es equivalente a una codificación dummy. Al primer nivel de la variable categórica es se le asigna el valor 0, y los otros niveles se miden a partir de este."
   ]
  },
  {
   "cell_type": "markdown",
   "metadata": {},
   "source": [
    "#### Dummy"
   ]
  },
  {
   "cell_type": "markdown",
   "metadata": {},
   "source": [
    "Como ya habíamos visto, por defecto R utiliza una coficación Dummy de variables categóricas.\n",
    "\n",
    "El nivel de referencia se elije al que tiene el nivel (level) más bajo:"
   ]
  },
  {
   "cell_type": "code",
   "execution_count": null,
   "metadata": {},
   "outputs": [],
   "source": [
    "levels(fao$Item)"
   ]
  },
  {
   "cell_type": "code",
   "execution_count": null,
   "metadata": {},
   "outputs": [],
   "source": [
    "contrasts(fao$Item)"
   ]
  },
  {
   "cell_type": "markdown",
   "metadata": {},
   "source": [
    "Podemos cambiar el nivel de referencia con la función `cont.trearment` , por ejemplo seleccionamos el Trigo:"
   ]
  },
  {
   "cell_type": "code",
   "execution_count": null,
   "metadata": {},
   "outputs": [],
   "source": [
    "ctr<-contr.treatment(4, base = 4)\n",
    "colnames(ctr)<-c(\"Cebada\",\"Maiz\",\"Arroz\")\n",
    "ctr"
   ]
  },
  {
   "cell_type": "code",
   "execution_count": null,
   "metadata": {},
   "outputs": [],
   "source": [
    "contrasts(fao$Item)<-ctr"
   ]
  },
  {
   "cell_type": "code",
   "execution_count": null,
   "metadata": {},
   "outputs": [],
   "source": [
    "contrasts(fao$Item)"
   ]
  },
  {
   "cell_type": "code",
   "execution_count": null,
   "metadata": {},
   "outputs": [],
   "source": [
    "model<-lm(data=fao,formula=\"value~year+Item+Element\")\n",
    "summary(model)"
   ]
  },
  {
   "cell_type": "code",
   "execution_count": null,
   "metadata": {},
   "outputs": [],
   "source": [
    "print(\"Predicción usando el método predict()\")\n",
    "predict(model,data.frame(year=1980,Item=\"Barley\",Element=\"Feed\"))\n",
    "\n",
    "print(\"Predicción usando la formula de la regresión:\")\n",
    "model$coef[\"(Intercept)\"]+model$coef[\"year\"]*1980+model$coef[\"ItemCebada\"]"
   ]
  },
  {
   "cell_type": "markdown",
   "metadata": {},
   "source": [
    "Esto es equivalente a crear 3 columnas más llamadas ItemCebada, ItemMaiz e ItemArroz:"
   ]
  },
  {
   "cell_type": "code",
   "execution_count": null,
   "metadata": {},
   "outputs": [],
   "source": [
    "fao_dummy<-fao\n",
    "fao_dummy$ItemCebada<-ifelse(fao_dummy$Item==\"Barley\",1,0)\n",
    "fao_dummy$ItemMaiz<-ifelse(fao_dummy$Item==\"Maize\",1,0)\n",
    "fao_dummy$ItemArroz<-ifelse(fao_dummy$Item==\"Rice\",1,0)\n",
    "head(fao_dummy)"
   ]
  },
  {
   "cell_type": "code",
   "execution_count": null,
   "metadata": {},
   "outputs": [],
   "source": [
    "model_dummy<-lm(data=fao_dummy,formula=\"value~year+Element+ItemCebada+ItemMaiz+ItemArroz\")\n",
    "summary(model_dummy)"
   ]
  },
  {
   "cell_type": "markdown",
   "metadata": {},
   "source": [
    "####  Codificación polinómica\n"
   ]
  },
  {
   "cell_type": "code",
   "execution_count": null,
   "metadata": {},
   "outputs": [],
   "source": [
    "ctr<-contr.poly(4)\n",
    "ctr"
   ]
  },
  {
   "cell_type": "code",
   "execution_count": null,
   "metadata": {},
   "outputs": [],
   "source": [
    "contrasts(fao$Item)<-ctr"
   ]
  },
  {
   "cell_type": "code",
   "execution_count": null,
   "metadata": {},
   "outputs": [],
   "source": [
    "contrasts(fao$Item)"
   ]
  },
  {
   "cell_type": "code",
   "execution_count": null,
   "metadata": {},
   "outputs": [],
   "source": [
    "model<-lm(data=fao,formula=\"value~year+Item+Element\")\n",
    "summary(model)"
   ]
  },
  {
   "cell_type": "code",
   "execution_count": null,
   "metadata": {},
   "outputs": [],
   "source": [
    "print(\"Predicción usando el método predict()\")\n",
    "predict(model,data.frame(year=1980,Item=\"Barley\",Element=\"Feed\"))\n",
    "\n",
    "print(\"Predicción usando la formula de la regresión:\")\n",
    "model$coef[\"(Intercept)\"]+model$coef[\"year\"]*1980+\n",
    " model$coef[\"Item.L\"]*ctr[1,1]+model$coef[\"Item.Q\"]*ctr[1,2]+model$coef[\"Item.C\"]*ctr[1,3]"
   ]
  },
  {
   "cell_type": "code",
   "execution_count": null,
   "metadata": {
    "scrolled": true
   },
   "outputs": [],
   "source": [
    "fao_dummy$valorL<-ctr[as.numeric(fao$Item),1]\n",
    "fao_dummy$valorQ<-ctr[as.numeric(fao$Item),2]\n",
    "fao_dummy$valorC<-ctr[as.numeric(fao$Item),3]\n",
    "head(fao_dummy)"
   ]
  },
  {
   "cell_type": "code",
   "execution_count": null,
   "metadata": {},
   "outputs": [],
   "source": [
    "model_dummy<-lm(data=fao_dummy,formula=\"value~year+Element+valorL+valorQ+valorC\")\n",
    "summary(model_dummy)"
   ]
  },
  {
   "cell_type": "markdown",
   "metadata": {},
   "source": [
    "#### Codificacion Helmert"
   ]
  },
  {
   "cell_type": "code",
   "execution_count": null,
   "metadata": {},
   "outputs": [],
   "source": [
    "ctr<-contr.helmert(4)\n",
    "ctr"
   ]
  },
  {
   "cell_type": "code",
   "execution_count": null,
   "metadata": {},
   "outputs": [],
   "source": [
    "contrasts(fao$Item)<-ctr"
   ]
  },
  {
   "cell_type": "code",
   "execution_count": null,
   "metadata": {},
   "outputs": [],
   "source": [
    "model<-lm(data=fao,formula=\"value~year+Item+Element\")\n",
    "summary(model)"
   ]
  },
  {
   "cell_type": "code",
   "execution_count": null,
   "metadata": {},
   "outputs": [],
   "source": [
    "print(\"Predicción usando el método predict()\")\n",
    "predict(model,data.frame(year=1980,Item=\"Barley\",Element=\"Feed\"))\n",
    "\n",
    "print(\"Predicción usando la formula de la regresión:\")\n",
    "model$coef[\"(Intercept)\"]+model$coef[\"year\"]*1980-\n",
    " model$coef[\"Item1\"]-model$coef[\"Item2\"]-model$coef[\"Item3\"]"
   ]
  },
  {
   "cell_type": "markdown",
   "metadata": {},
   "source": [
    "## Regresión lineal y t-student/ANOVA\n",
    "\n",
    "\n",
    "\n",
    "Suponiendo que los residuos siguen una distribución gaussiana, se puede calcular la varianza de cada uno de los coeficientes como:\n",
    "\\\\[\n",
    "Var [ \\beta' | X ] = s^2 (X^TX)^{-1} = \\frac{\\varepsilon^2}{n-p} ·  (X^TX)^{-1} = \\frac{\\sum(Y_i-Y')^2}{n-p} ·  (\\sum(X_i-\\overline{X}) )^{-1}\n",
    "\\\\]\n",
    "\n",
    "Donde:\n",
    "* p es el número de grados de liberdad, de coeficientes, en este caso son 2: Intersección y la pendiente.\n",
    "* n es el número de muestras\n",
    "\n",
    "La media de los coeficientes vienen dados por el vector $\\beta'$. Con la media y la varianza podemos calcular la probabilidad de que el valor de la media estimado esté muy desviado de 0 por puro azar. Eso aparece con el valor Pr(>|t|) en el summary del modelo. Cuanto menos sea este valor más fiable será. Más adelante veremos que significa esta probabilidad en detalle, llamada p-valor.\n",
    "\n",
    "Donde Pr(>|t|) vendrá a ser un test de dos hipótesis:\n",
    "* $H_0$ : El valor del coeficiente no es importante para la regresión. Su valor debería ser 0.\n",
    "* $H_1$ : El valor del coeficiente es importante para la regresión. Su valor debería ser diferente de 0.\n",
    "\n",
    "\n",
    "El test estadístico que trataremos de medir es el coeficiente de la regresión lineal dividido por la desviación típica:\n",
    "\n",
    "\\\\[\n",
    "t=\\frac{coef}{\\sigma_M}\n",
    "\\\\]\n"
   ]
  },
  {
   "cell_type": "markdown",
   "metadata": {},
   "source": [
    "### Ejemplo: Peso de los niños al nacer\n",
    "\n",
    "Este dataset contien información de bebes recien nacidos y sus padres. Nos vamos a centrar en si la madre era o no fumadora."
   ]
  },
  {
   "cell_type": "code",
   "execution_count": null,
   "metadata": {},
   "outputs": [],
   "source": [
    "bwt<-read.csv(\"data/birthweight_reduced.csv\")\n",
    "bwt$smoker<-factor(bwt$smoker,labels = c(\"NO\",\"YES\"))"
   ]
  },
  {
   "cell_type": "markdown",
   "metadata": {},
   "source": [
    "_Repaso t-test_"
   ]
  },
  {
   "cell_type": "code",
   "execution_count": null,
   "metadata": {},
   "outputs": [],
   "source": [
    "tw<-t.test(bwt$Birthweight[bwt$smoker==\"YES\"],bwt$Birthweight[bwt$smoker==\"NO\"])"
   ]
  },
  {
   "cell_type": "code",
   "execution_count": null,
   "metadata": {},
   "outputs": [],
   "source": [
    "library(ggplot2)\n",
    "d.f.<-tw$parameter\n",
    "t<-tw$statistic\n",
    "loth<-qt(0.025,d.f.,lower.tail = T)\n",
    "upth<-qt(0.025,d.f.,lower.tail = F)\n",
    "\n",
    "paste(\"El margen que nos llevaría a rechazar la hipótesis nula está fuera del rango: [\",\n",
    "      round(loth,2),\",\",round(upth,2),\"]\")\n",
    "\n",
    "\n",
    "qsd009<-function(x){    \n",
    "    out<-dt(x,d.f.)\n",
    "    out[x> loth  & x<upth  ]<-NA\n",
    "    out\n",
    "}\n",
    "\n",
    "qsdtest<-function(x){    \n",
    "    out<-dt(x,d.f.)\n",
    "    out[x> -abs(t)  & x< abs(t)  ]<-NA\n",
    "    out\n",
    "}\n",
    "\n",
    "\n",
    "options(repr.plot.height=2,repr.plot.width=6)\n",
    "xdf<-data.frame(z=c(-4,4))\n",
    "ggplot(xdf,aes(x=z))+stat_function(fun=dt,args = list(df = d.f.))+\n",
    "  stat_function(fun=qsd009, geom=\"area\",fill=\"red\",alpha=0.3)+\n",
    "  stat_function(fun=qsdtest, geom=\"area\",fill=\"yellow\",alpha=0.2)+\n",
    "  geom_text(x=3,y=0.1,size=4,label=paste0(\"t_cdf(\",round(upth,2),\")=0.975\"))+\n",
    "  geom_text(x=-3,y=0.1,size=4,label=paste0(\"t_cdf(\",round(loth,2),\")=0.025\"))+\n",
    "\n",
    "  geom_vline(xintercept = t,color=\"blue\")+\n",
    "\n",
    "  theme_linedraw()\n",
    "options(repr.plot.height=7,repr.plot.width=7)\n",
    "\n",
    "tw"
   ]
  },
  {
   "cell_type": "markdown",
   "metadata": {},
   "source": [
    "### ¿Qué sabíamos hasta ahora?\n",
    "\n",
    "#### Para madres no fumadoras"
   ]
  },
  {
   "cell_type": "code",
   "execution_count": null,
   "metadata": {},
   "outputs": [],
   "source": [
    "bwt_nosmoker<-bwt[bwt$smoker==\"NO\",]\n",
    "mn<-mean(bwt_nosmoker$Birthweight)\n",
    "paste(\"La media de peso de los bebes de las madres no fumadoras es de\",mn)\n",
    "paste(\"Su desviación típica estimada es de\",sd(bwt_nosmoker$Birthweight))"
   ]
  },
  {
   "cell_type": "markdown",
   "metadata": {},
   "source": [
    "Sabiendo que el vector de las medias tiene una distribución gaussiana de media $\\bar{x}$.\n",
    "Pero una desviación típica desconocida, estimada a través de la muestra  de $\\frac{\\sigma}{\\sqrt{n}}$ es fácil calcular el intervalo de confianza para la media con una probabilidad de $p$.\n",
    "\n",
    "Los intervalos de confianza para un p-valor de $p$ y $n$ muestras vendrá dado por la fórmula:\n",
    "\n",
    "\\\\[\n",
    "\\begin{split}\n",
    "\\text{Limite inferior} = \\bar{x}-t(1-p/2,n-1)·\\frac{\\sqrt {var[X]}}{\\sqrt{n}} \\\\\n",
    "\\text{Limite superior} = \\bar{x}+t(1-p/2,n-1)·\\frac{\\sqrt {var[X]}}{\\sqrt{n}} \\\\\n",
    "\\end{split}\n",
    "\\\\]\n",
    "\n",
    "Donde t(p,n-1) es la función cumulativa de probabilidad de una distribución t-student con $n-1$ grados de libertad."
   ]
  },
  {
   "cell_type": "code",
   "execution_count": null,
   "metadata": {},
   "outputs": [],
   "source": [
    "p<-0.05\n",
    "error<-qt(1-p/2,nrow(bwt_nosmoker)-1)*sd(bwt_nosmoker$Birthweight)/sqrt(nrow(bwt_nosmoker))\n",
    "paste(\"El error será:\",error)\n",
    "paste(\"Intervalo de confianza del 95% de la media de no fumadores será: [\",mn-error,\",\",mn+error,\"]\")\n",
    "#Equivalente a ejecutar: t.test(bwt_nosmoker$Birthweight)"
   ]
  },
  {
   "cell_type": "markdown",
   "metadata": {},
   "source": [
    "#### Para madres fumadoras"
   ]
  },
  {
   "cell_type": "code",
   "execution_count": null,
   "metadata": {},
   "outputs": [],
   "source": [
    "bwt_smoker<-bwt[bwt$smoker==\"YES\",]\n",
    "mn_smoker<-mean(bwt_smoker$Birthweight)\n",
    "paste(\"La media de peso de los bebes de las madres fumadoras es de\",mn_smoker)\n",
    "paste(\"Su desviación típica estimada es de\",sd(bwt_smoker$Birthweight))"
   ]
  },
  {
   "cell_type": "code",
   "execution_count": null,
   "metadata": {},
   "outputs": [],
   "source": [
    "p<-0.05\n",
    "error_smoker<-qt(1-p/2,nrow(bwt_smoker)-1)*sd(bwt_smoker$Birthweight)/sqrt(nrow(bwt_smoker))\n",
    "paste(\"El error será:\",error_smoker)\n",
    "paste(\"Intervalo de confianza del 95% de la media de no fumadores será: [\",\n",
    "      mn_smoker-error_smoker,\",\",mn_smoker+error_smoker,\"]\")"
   ]
  },
  {
   "cell_type": "code",
   "execution_count": null,
   "metadata": {},
   "outputs": [],
   "source": [
    "t.test(bwt_smoker$Birthweight)"
   ]
  },
  {
   "cell_type": "markdown",
   "metadata": {},
   "source": [
    "### ¿Que nos está diciendo el resumen del modelo?\n"
   ]
  },
  {
   "cell_type": "code",
   "execution_count": null,
   "metadata": {},
   "outputs": [],
   "source": [
    "model <- lm(formula = Birthweight ~ smoker, data = bwt)\n",
    "summary(model)"
   ]
  },
  {
   "cell_type": "code",
   "execution_count": null,
   "metadata": {},
   "outputs": [],
   "source": [
    "paste(\"La media de peso de los bebes de las madres NO fumadoras es de\",model$coefficients[1])\n",
    "paste(\"La media de peso de los bebes de las madres fumadoras es de\",model$coefficients[1]+model$coefficients[2])"
   ]
  },
  {
   "cell_type": "code",
   "execution_count": null,
   "metadata": {},
   "outputs": [],
   "source": [
    "vcov_matrix <- vcov(model)\n",
    "paste(\"La desviación típica del error es:\",sqrt(vcov_matrix[1,1]))"
   ]
  },
  {
   "cell_type": "code",
   "execution_count": null,
   "metadata": {},
   "outputs": [],
   "source": [
    "p<-0.05\n",
    "error<-qt(1-p/2,nrow(bwt)-2)*sqrt(vcov_matrix[1,1])\n",
    "paste(\"Intervalo de confianza del 95% de la media de no fumadores será: [\",\n",
    "      model$coefficients[1]-error,\",\",model$coefficients[1]+error,\"]\")"
   ]
  },
  {
   "cell_type": "code",
   "execution_count": null,
   "metadata": {},
   "outputs": [],
   "source": [
    "error<-qt(1-p/2,nrow(bwt)-2)*sqrt(vcov_matrix[2,2])\n",
    "paste(\"Intervalo de confianza del 95% del aumento de peso debido a que la made es fumadora será: [\",\n",
    "      model$coefficients[2]-error,\",\",model$coefficients[2]+error,\"]\")"
   ]
  },
  {
   "cell_type": "code",
   "execution_count": null,
   "metadata": {},
   "outputs": [],
   "source": [
    "confint(model,level=1-p)"
   ]
  },
  {
   "cell_type": "code",
   "execution_count": null,
   "metadata": {},
   "outputs": [],
   "source": [
    "model$coefficients[1]+confint(model,level=1-p)[2,]"
   ]
  },
  {
   "cell_type": "markdown",
   "metadata": {},
   "source": [
    "Para ver cual es el peso de los niños de madres fumadores y no fumadoras podríamos hacer:"
   ]
  },
  {
   "cell_type": "code",
   "execution_count": null,
   "metadata": {},
   "outputs": [],
   "source": [
    "model <- lm(formula = Birthweight ~ smoker+0, data = bwt)\n",
    "summary(model)\n",
    "confint(model,level=1-p)"
   ]
  },
  {
   "cell_type": "markdown",
   "metadata": {},
   "source": [
    "### Ejemplo: Efectividad de una dieta\n",
    "\n",
    "https://www.sheffield.ac.uk/polopoly_fs/1.570199!/file/stcp-Rdataset-Diet.csv\n",
    "\n",
    "Los datos contienen información de 76 personas que tomaron una de las tres dietas (1, 2 o 3). Además se aporta información extra como edad, género y altura. El objetivo del estudio es compara cual de las tres dietas era la mejor para perder peso."
   ]
  },
  {
   "cell_type": "code",
   "execution_count": null,
   "metadata": {},
   "outputs": [],
   "source": [
    "diet = read.csv(\"data/stcp-Rdataset-Diet.csv\",row.names=1)\n",
    "head(diet)\n",
    "diet$loss <- diet$pre.weight - diet$weight6weeks\n",
    "diet$Diet <- factor(diet$Diet)\n",
    "diet$gender<-factor(diet$gender, labels=c(\"female\",\"male\"))\n",
    "str(diet)"
   ]
  },
  {
   "cell_type": "code",
   "execution_count": null,
   "metadata": {},
   "outputs": [],
   "source": [
    "options(repr.plot.height=4,repr.plot.width=6,repr.plot.res = 200)\n",
    "\n",
    "ggplot(diet, aes(y=loss, x=Diet, color=Diet))+geom_boxplot()"
   ]
  },
  {
   "cell_type": "markdown",
   "metadata": {},
   "source": [
    "#### Efectividad de la dieta"
   ]
  },
  {
   "cell_type": "markdown",
   "metadata": {},
   "source": [
    "_Tests estadisticos_\n",
    "\n",
    "Aplicamos el test ANOVA y vemos que efectivamente, hay una diferencia estadística significativa entre las diferentes dietas."
   ]
  },
  {
   "cell_type": "code",
   "execution_count": null,
   "metadata": {},
   "outputs": [],
   "source": [
    "for (v in levels(diet$Diet)){\n",
    "    print(paste(\"Diet:\",v,\"pvalue,\",\n",
    "                shapiro.test(diet$loss[diet$Diet==v])$p.value))\n",
    "}\n",
    "anovatest <- aov(loss~Diet, data=diet)\n",
    "summary(anovatest)"
   ]
  },
  {
   "cell_type": "code",
   "execution_count": null,
   "metadata": {},
   "outputs": [],
   "source": [
    "TukeyHSD(anovatest)"
   ]
  },
  {
   "cell_type": "markdown",
   "metadata": {},
   "source": [
    "_Regresión lineal_\n",
    "\n",
    "La regresión lineal nos muestra que apenas hay diferencia entre la dieta1 y dieta2, pero la dieta3 si que es mejor."
   ]
  },
  {
   "cell_type": "code",
   "execution_count": null,
   "metadata": {},
   "outputs": [],
   "source": [
    "model<-lm(data=diet,formula=loss~ Diet)\n",
    "summary(model)"
   ]
  },
  {
   "cell_type": "code",
   "execution_count": null,
   "metadata": {},
   "outputs": [],
   "source": [
    "diet3<-mean(subset(diet,Diet==3)$loss)\n",
    "diet2<-mean(subset(diet,Diet==2)$loss)\n",
    "diet1<-mean(subset(diet,Diet==1)$loss)\n",
    "\n",
    "paste(\"Perdida de peso por dieta 1 : \",diet1, \". Es igual a:\", model$coef[1])\n",
    "paste(\"Perdida de peso por dieta 2 : \",diet2, \". Es igual a:\", model$coef[1]+model$coef[2])\n",
    "paste(\"Perdida de peso por dieta 3 : \",diet3, \". Es igual a:\", model$coef[1]+model$coef[3])\n"
   ]
  },
  {
   "cell_type": "markdown",
   "metadata": {},
   "source": [
    "#### Adelgazamiento por la dieta y género"
   ]
  },
  {
   "cell_type": "code",
   "execution_count": null,
   "metadata": {},
   "outputs": [],
   "source": [
    "summary(aov(loss~Diet+gender,data=diet))"
   ]
  },
  {
   "cell_type": "code",
   "execution_count": null,
   "metadata": {},
   "outputs": [],
   "source": [
    "summary(lm(data=diet,formula=loss~ Diet+gender))"
   ]
  },
  {
   "cell_type": "markdown",
   "metadata": {},
   "source": [
    "Ser hombre o mujer parece no aumentar las probabilidades de perder peso. La regresión lineal nos dice que de media los hombres pierden 0.09 kg más que las mujeres, pero la precisión de este número no es estadísticamente significativa."
   ]
  },
  {
   "cell_type": "markdown",
   "metadata": {},
   "source": [
    "#### Efectividad de la dieta en el género"
   ]
  },
  {
   "cell_type": "code",
   "execution_count": null,
   "metadata": {},
   "outputs": [],
   "source": [
    "summary(aov(loss~Diet*gender,data=diet))"
   ]
  },
  {
   "cell_type": "code",
   "execution_count": null,
   "metadata": {},
   "outputs": [],
   "source": [
    "model<-lm(data=diet,formula=loss~ Diet*gender)\n",
    "summary(model)"
   ]
  },
  {
   "cell_type": "markdown",
   "metadata": {},
   "source": [
    "Parece que la dieta 3 es más efectiva en mujeres que hombres."
   ]
  },
  {
   "cell_type": "code",
   "execution_count": null,
   "metadata": {},
   "outputs": [],
   "source": [
    "lossmale3<-mean(subset(diet,gender==\"male\" & Diet==3)$loss)\n",
    "lossfemale3<-mean(subset(diet,gender==\"female\" & Diet==3)$loss)\n",
    "\n",
    "paste(\"Perdida de peso por dieta 3 en mujeres: \", lossfemale3,      \n",
    "       \". Es igual a:\", model$coef['(Intercept)']+model$coef['Diet3'])\n",
    "paste(\"Perdida de peso por dieta 3 en hombres: \", lossmale3,\n",
    "      \". Es igual a:\",\n",
    "      model$coef['(Intercept)']+model$coef['Diet3']+model$coef['gendermale']+model$coef['Diet3:gendermale'])"
   ]
  },
  {
   "cell_type": "code",
   "execution_count": null,
   "metadata": {},
   "outputs": [],
   "source": []
  }
 ],
 "metadata": {
  "kernelspec": {
   "display_name": "R",
   "language": "R",
   "name": "ir"
  },
  "language_info": {
   "codemirror_mode": "r",
   "file_extension": ".r",
   "mimetype": "text/x-r-source",
   "name": "R",
   "pygments_lexer": "r",
   "version": "4.1.0"
  }
 },
 "nbformat": 4,
 "nbformat_minor": 1
}
